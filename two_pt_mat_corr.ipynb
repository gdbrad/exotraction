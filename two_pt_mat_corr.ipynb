{
 "cells": [
  {
   "cell_type": "code",
   "execution_count": 1,
   "metadata": {},
   "outputs": [
    {
     "name": "stdout",
     "output_type": "stream",
     "text": [
      "{1: array([[0.+0.j, 0.+0.j, 0.+0.j, 0.+1.j],\n",
      "       [0.+0.j, 0.+0.j, 0.+1.j, 0.+0.j],\n",
      "       [0.-0.j, 0.-1.j, 0.+0.j, 0.+0.j],\n",
      "       [0.-1.j, 0.-0.j, 0.+0.j, 0.+0.j]]), 2: array([[ 0.+0.j,  0.+0.j,  0.-0.j, -1.+0.j],\n",
      "       [ 0.+0.j,  0.+0.j,  1.-0.j,  0.-0.j],\n",
      "       [ 0.+0.j,  1.-0.j,  0.+0.j,  0.+0.j],\n",
      "       [-1.+0.j,  0.+0.j,  0.+0.j,  0.+0.j]]), 3: array([[ 0.+0.j,  0.+0.j,  0.+1.j,  0.+0.j],\n",
      "       [ 0.+0.j,  0.+0.j,  0.+0.j, -0.-1.j],\n",
      "       [ 0.-1.j,  0.-0.j,  0.+0.j,  0.+0.j],\n",
      "       [ 0.-0.j,  0.+1.j,  0.+0.j,  0.+0.j]]), 4: array([[0.+0.j, 0.+0.j, 1.+0.j, 0.+0.j],\n",
      "       [0.+0.j, 0.+0.j, 0.+0.j, 1.+0.j],\n",
      "       [1.+0.j, 0.+0.j, 0.+0.j, 0.+0.j],\n",
      "       [0.+0.j, 1.+0.j, 0.+0.j, 0.+0.j]]), 5: array([[ 1.+0.j,  0.+0.j,  0.+0.j,  0.+0.j],\n",
      "       [ 0.+0.j,  1.+0.j,  0.+0.j,  0.+0.j],\n",
      "       [ 0.+0.j,  0.+0.j, -1.+0.j,  0.+0.j],\n",
      "       [ 0.+0.j,  0.+0.j,  0.+0.j, -1.+0.j]])}\n"
     ]
    }
   ],
   "source": [
    "import h5py\n",
    "import numpy as np\n",
    "from typing import List,Dict \n",
    "import os\n",
    "import argparse\n",
    "import matplotlib.pyplot as plt\n",
    "import datetime\n",
    "from ingest_data import load_elemental, load_peram, reverse_perambulator_time\n",
    "import gamma as gamma\n",
    "# from displacement import displacement_map\n",
    "# from displacement import deriv_names\n",
    "\n",
    "import scipy \n",
    "\n",
    "from scipy import sparse\n",
    "\n"
   ]
  },
  {
   "cell_type": "markdown",
   "metadata": {},
   "source": [
    "testing cubic group irrep decomposition for different momentum configurations. \n",
    "start with the simplest one (1,0,0) (0,1,0) (0,0,1)\n",
    "\n"
   ]
  },
  {
   "cell_type": "code",
   "execution_count": 2,
   "metadata": {},
   "outputs": [
    {
     "ename": "SyntaxError",
     "evalue": "invalid syntax (1939157564.py, line 4)",
     "output_type": "error",
     "traceback": [
      "\u001b[0;36m  Cell \u001b[0;32mIn[2], line 4\u001b[0;36m\u001b[0m\n\u001b[0;31m    from typing import Dict\u001b[0m\n\u001b[0m    ^\u001b[0m\n\u001b[0;31mSyntaxError\u001b[0m\u001b[0;31m:\u001b[0m invalid syntax\n"
     ]
    }
   ],
   "source": [
    "##  Oh and LG\n",
    "from dataclasses import dataclass\n",
    "@dataclass \n",
    "from typing import Dict \n",
    "\n",
    "@dataclass\n",
    "class IrrepNames:\n",
    "    wp:str         ## Irrep with parity\n",
    "    np: str          ## Irrep no parity\n",
    "    ferm: bool          ## Is this a double cover?\n",
    "    lg: bool            ## LG?\n",
    "    dim: int            ## dimension\n",
    "    G: int              ## G-parity\n",
    "irrep_names_no_par = {\n",
    "  \"A1\": IrrepNames(wp= \"A1\", np= \"A1\", ferm= False, lg= False, dim= 1, G= 0),\n",
    "  \"A2\": IrrepNames(wp= \"A2\", np= \"A2\", ferm= False, lg= False, dim= 1, G= 0),\n",
    "  \"T1\": IrrepNames(wp= \"T1\", np= \"T1\", ferm= False, lg= False, dim= 3, G= 0),\n",
    "  \"T2\": IrrepNames(wp= \"T2\", np= \"T2\", ferm= False, lg= False, dim= 3, G= 0),\n",
    "  \"E\": IrrepNames(wp= \"E\", np= \"E\", ferm= False, lg= False, dim= 2, G= 0),\n",
    "}\n",
    "\n",
    "mom_keys = {0: 'mom_-1_0_0', 1: 'mom_-2_0_0', 2: 'mom_-3_0_0', 3: 'mom_0_-1_0', 4: 'mom_0_-2_0', 5: 'mom_0_-3_0', 6: 'mom_0_0_-1', 7: 'mom_0_0_-2', 8: 'mom_0_0_-3', 9: 'mom_0_0_0', 10: 'mom_0_0_1', 11: 'mom_0_0_2', 12: 'mom_0_0_3', 13: 'mom_0_1_0', 14: 'mom_0_2_0', 15: 'mom_0_3_0', 16: 'mom_1_0_0', 17: 'mom_2_0_0', 18: 'mom_3_0_0'}\n",
    "mom_keys_inv = {v: k for k, v in mom_keys.items()}\n",
    "\n"
   ]
  },
  {
   "cell_type": "code",
   "execution_count": 4,
   "metadata": {},
   "outputs": [
    {
     "ename": "IndentationError",
     "evalue": "expected an indented block after function definition on line 3 (2106514035.py, line 10)",
     "output_type": "error",
     "traceback": [
      "\u001b[0;36m  Cell \u001b[0;32mIn[4], line 10\u001b[0;36m\u001b[0m\n\u001b[0;31m    def _get_parity(self):\u001b[0m\n\u001b[0m    ^\u001b[0m\n\u001b[0;31mIndentationError\u001b[0m\u001b[0;31m:\u001b[0m expected an indented block after function definition on line 3\n"
     ]
    }
   ],
   "source": [
    "class OperatorInsertion:\n",
    "    '''forms the Hermitian operators to construct the correlator matrix'''\n",
    "    def __init__(\n",
    "            self,\n",
    "            gamma:str, # see Gamma class \n",
    "            derivative: str, # see Deriv class \n",
    "            projection: str, # see Irrep class \n",
    "            mom_dict = Dict[int,str]) -> None: # see Mom class of tuples\n",
    "    \n",
    "    def _get_parity(self):\n",
    "        self.parity = gamma_parity * displacement_parity \n",
    "        \n",
    "    def _get_charge_conj(self):\n",
    "        \n"
   ]
  },
  {
   "cell_type": "code",
   "execution_count": 2,
   "metadata": {},
   "outputs": [
    {
     "name": "stdout",
     "output_type": "stream",
     "text": [
      "Reading propagator file: /home/grant/jureca_exolaunch/perams_sdb/numvec32/tsrc-24/peram_32_cfg101.h5\n",
      "Reading meson elementals file: /home/grant/jureca_exolaunch/meson_sdb/numvec32/meson-32_cfg101.h5\n",
      "Reading meson elementals file: /home/grant/jureca_exolaunch/meson_sdb/numvec32/meson-32_cfg101.h5\n"
     ]
    },
    {
     "name": "stderr",
     "output_type": "stream",
     "text": [
      "  0%|          | 0/96 [00:00<?, ?it/s]"
     ]
    },
    {
     "name": "stderr",
     "output_type": "stream",
     "text": [
      "                                               \r"
     ]
    },
    {
     "name": "stdout",
     "output_type": "stream",
     "text": [
      "Reading propagator file: /home/grant/jureca_exolaunch/perams_sdb/numvec32/tsrc-24/peram_32_cfg101.h5\n"
     ]
    },
    {
     "name": "stderr",
     "output_type": "stream",
     "text": [
      "                                                                  \r"
     ]
    },
    {
     "name": "stdout",
     "output_type": "stream",
     "text": [
      "Computing the time-reversed perambulator\n"
     ]
    },
    {
     "name": "stderr",
     "output_type": "stream",
     "text": [
      "                                                                                 \r"
     ]
    },
    {
     "name": "stdout",
     "output_type": "stream",
     "text": [
      "gamma[5] shape: (4, 4)\n",
      "peramb_reverse shape: (24, 96, 4, 4, 32, 32)\n"
     ]
    }
   ],
   "source": [
    "num_vecs = 32\n",
    "Lt=96 \n",
    "num_tsrcs = 24 \n",
    "h5_path = os.path.abspath('/home/grant/jureca_exolaunch')\n",
    "peram_dir = os.path.join(h5_path, 'perams_sdb', f'numvec{num_vecs}', f'tsrc-{num_tsrcs}')\n",
    "meson_dir = os.path.join(h5_path, 'meson_sdb', f'numvec{num_vecs}')\n",
    "peram_file = os.path.join(peram_dir,\"peram_32_cfg101.h5\")\n",
    "meson_file = os.path.join(meson_dir,\"meson-32_cfg101.h5\")\n",
    "\n",
    "\n",
    "print(f\"Reading propagator file: {peram_file}\")\n",
    "print(f\"Reading meson elementals file: {meson_file}\")\n",
    "meson_elemental = load_elemental(meson_file, Lt, num_vecs, disp='disp')\n",
    "peram = load_peram(peram_file, Lt, num_vecs, num_tsrcs)\n",
    "\n",
    "peram_back = reverse_perambulator_time(peram)\n"
   ]
  },
  {
   "cell_type": "code",
   "execution_count": 6,
   "metadata": {},
   "outputs": [
    {
     "data": {
      "text/plain": [
       "array([[[-3.68943808e-01-0.07497566j, -1.51937851e-01+0.11035676j,\n",
       "         -3.80017303e-01+0.05125981j, ..., -3.40137563e-02+0.02001577j,\n",
       "         -6.68810708e-02-0.05786749j, -1.03527666e-01-0.00731189j],\n",
       "        [ 3.05645812e-02-0.16293148j, -1.65624785e-01+0.18388744j,\n",
       "          7.22655675e-02+0.15760021j, ..., -1.89076428e-02-0.04725258j,\n",
       "         -5.96863709e-02+0.13430612j,  6.23829278e-02-0.03554704j],\n",
       "        [-1.34410326e-01+0.24914145j,  1.37249650e-01-0.00680357j,\n",
       "          6.47845750e-02+0.02055228j, ..., -5.33749178e-02+0.01634078j,\n",
       "         -9.58941776e-02-0.07351919j,  2.70029718e-03+0.03860448j],\n",
       "        ...,\n",
       "        [-4.50318481e-02-0.04314598j, -3.42559729e-02-0.08187448j,\n",
       "          4.88387295e-03+0.07647606j, ..., -2.67078170e-02+0.11643757j,\n",
       "          3.09912046e-02-0.02591788j,  9.12869210e-03+0.01287356j],\n",
       "        [ 9.86560520e-02-0.11312648j,  1.82055687e-02-0.0491838j ,\n",
       "         -3.34878668e-02+0.12579468j, ...,  7.72731027e-02+0.02790987j,\n",
       "          3.62048538e-02-0.05009413j, -5.90679184e-02-0.06979794j],\n",
       "        [ 9.37279664e-02+0.03792266j,  8.58736609e-02-0.02185623j,\n",
       "          8.62581167e-02+0.10056989j, ...,  7.18387702e-02+0.02382207j,\n",
       "          7.45548142e-03-0.02453795j,  8.03744897e-03+0.01323134j]],\n",
       "\n",
       "       [[ 1.29481731e-01-0.0228004j ,  5.02245465e-02-0.00309066j,\n",
       "         -3.40074561e-04-0.00088452j, ...,  4.38144201e-02-0.02778987j,\n",
       "          2.70483109e-02+0.00935215j,  4.02546231e-02+0.06339206j],\n",
       "        [-2.00067222e-02+0.01860715j,  6.21146473e-02-0.01999091j,\n",
       "         -5.17336538e-03+0.04335339j, ...,  2.35338102e-02-0.01616399j,\n",
       "         -4.02866826e-02-0.07545449j, -2.30093807e-02-0.00028219j],\n",
       "        [ 5.38597937e-02+0.00167313j, -4.71792386e-03+0.01708873j,\n",
       "          5.54112740e-02-0.07518327j, ...,  9.65745811e-03-0.0283715j ,\n",
       "         -1.12858954e-02+0.02740313j,  4.86224720e-02-0.01078512j],\n",
       "        ...,\n",
       "        [-1.47780326e-02-0.03211147j,  4.66896836e-02+0.03299307j,\n",
       "          8.38321241e-02+0.02272553j, ..., -2.37529321e-03-0.00521895j,\n",
       "          3.95291893e-03-0.02857061j,  1.45897243e-02+0.00506054j],\n",
       "        [-5.65919601e-02+0.05837911j, -1.76588740e-02+0.05290839j,\n",
       "         -2.52967961e-02+0.02676036j, ...,  3.60135903e-02+0.02050304j,\n",
       "         -1.50113784e-02+0.00182556j, -2.41053215e-02+0.01396701j],\n",
       "        [-4.71846932e-02-0.03785453j,  2.55789975e-04+0.01479029j,\n",
       "         -4.67827023e-02+0.00854542j, ..., -8.86273991e-02-0.00342113j,\n",
       "         -3.53225945e-02+0.00611589j, -3.58843545e-02-0.01729832j]],\n",
       "\n",
       "       [[-3.69516078e-02+0.0058472j , -1.10217272e-02+0.002913j  ,\n",
       "         -1.61983715e-02+0.02366164j, ..., -4.86333835e-03+0.0084276j ,\n",
       "          8.90796772e-03-0.00571203j, -3.23724005e-02-0.00764197j],\n",
       "        [ 1.74877889e-03-0.01061483j, -2.07589212e-02-0.01186461j,\n",
       "          3.81567286e-04+0.01225463j, ..., -4.17673248e-03-0.0075975j ,\n",
       "          1.07135970e-02+0.01574052j,  1.06095867e-02+0.00982387j],\n",
       "        [-5.22610335e-03+0.00221915j,  3.68620575e-04+0.00213041j,\n",
       "         -5.10529317e-03-0.01386747j, ...,  2.56918409e-02-0.006083j  ,\n",
       "          1.52434379e-02-0.00468098j,  7.56460380e-03-0.01477796j],\n",
       "        ...,\n",
       "        [-1.81893236e-02+0.01801475j,  9.50735169e-03-0.00784667j,\n",
       "          1.36386263e-02+0.01763289j, ..., -6.44495363e-03-0.01114769j,\n",
       "         -3.87043259e-02-0.00030314j,  1.04488404e-03+0.01255574j],\n",
       "        [ 1.96932362e-02+0.00152269j, -9.44885552e-03+0.00140207j,\n",
       "         -2.22979209e-03-0.0179084j , ...,  2.51783653e-02-0.0125998j ,\n",
       "          2.41578483e-02-0.00918538j, -7.79406948e-03-0.00202877j],\n",
       "        [ 4.97144035e-03+0.0059576j ,  1.75685199e-02+0.00199365j,\n",
       "          2.53419704e-03+0.00572204j, ...,  1.82242400e-02-0.01124418j,\n",
       "         -4.07917528e-02+0.02596012j, -2.99884681e-03+0.01195403j]],\n",
       "\n",
       "       ...,\n",
       "\n",
       "       [[-3.68943808e-01+0.07497566j,  3.05645812e-02+0.16293148j,\n",
       "         -1.34410326e-01-0.24914145j, ..., -4.50318481e-02+0.04314598j,\n",
       "          9.86560520e-02+0.11312648j,  9.37279664e-02-0.03792266j],\n",
       "        [-1.51937851e-01-0.11035676j, -1.65624785e-01-0.18388744j,\n",
       "          1.37249650e-01+0.00680357j, ..., -3.42559729e-02+0.08187448j,\n",
       "          1.82055687e-02+0.0491838j ,  8.58736609e-02+0.02185623j],\n",
       "        [-3.80017303e-01-0.05125981j,  7.22655675e-02-0.15760021j,\n",
       "          6.47845750e-02-0.02055228j, ...,  4.88387295e-03-0.07647606j,\n",
       "         -3.34878668e-02-0.12579468j,  8.62581167e-02-0.10056989j],\n",
       "        ...,\n",
       "        [-3.40137563e-02-0.02001577j, -1.89076428e-02+0.04725258j,\n",
       "         -5.33749178e-02-0.01634078j, ..., -2.67078170e-02-0.11643757j,\n",
       "          7.72731027e-02-0.02790987j,  7.18387702e-02-0.02382207j],\n",
       "        [-6.68810708e-02+0.05786749j, -5.96863709e-02-0.13430612j,\n",
       "         -9.58941776e-02+0.07351919j, ...,  3.09912046e-02+0.02591788j,\n",
       "          3.62048538e-02+0.05009413j,  7.45548142e-03+0.02453795j],\n",
       "        [-1.03527666e-01+0.00731189j,  6.23829278e-02+0.03554704j,\n",
       "          2.70029718e-03-0.03860448j, ...,  9.12869210e-03-0.01287356j,\n",
       "         -5.90679184e-02+0.06979794j,  8.03744897e-03-0.01323134j]],\n",
       "\n",
       "       [[ 1.29481731e-01+0.0228004j , -2.00067222e-02-0.01860715j,\n",
       "          5.38597937e-02-0.00167313j, ..., -1.47780326e-02+0.03211147j,\n",
       "         -5.65919601e-02-0.05837911j, -4.71846932e-02+0.03785453j],\n",
       "        [ 5.02245465e-02+0.00309066j,  6.21146473e-02+0.01999091j,\n",
       "         -4.71792386e-03-0.01708873j, ...,  4.66896836e-02-0.03299307j,\n",
       "         -1.76588740e-02-0.05290839j,  2.55789975e-04-0.01479029j],\n",
       "        [-3.40074561e-04+0.00088452j, -5.17336538e-03-0.04335339j,\n",
       "          5.54112740e-02+0.07518327j, ...,  8.38321241e-02-0.02272553j,\n",
       "         -2.52967961e-02-0.02676036j, -4.67827023e-02-0.00854542j],\n",
       "        ...,\n",
       "        [ 4.38144201e-02+0.02778987j,  2.35338102e-02+0.01616399j,\n",
       "          9.65745811e-03+0.0283715j , ..., -2.37529321e-03+0.00521895j,\n",
       "          3.60135903e-02-0.02050304j, -8.86273991e-02+0.00342113j],\n",
       "        [ 2.70483109e-02-0.00935215j, -4.02866826e-02+0.07545449j,\n",
       "         -1.12858954e-02-0.02740313j, ...,  3.95291893e-03+0.02857061j,\n",
       "         -1.50113784e-02-0.00182556j, -3.53225945e-02-0.00611589j],\n",
       "        [ 4.02546231e-02-0.06339206j, -2.30093807e-02+0.00028219j,\n",
       "          4.86224720e-02+0.01078512j, ...,  1.45897243e-02-0.00506054j,\n",
       "         -2.41053215e-02-0.01396701j, -3.58843545e-02+0.01729832j]],\n",
       "\n",
       "       [[-3.69516078e-02-0.0058472j ,  1.74877889e-03+0.01061483j,\n",
       "         -5.22610335e-03-0.00221915j, ..., -1.81893236e-02-0.01801475j,\n",
       "          1.96932362e-02-0.00152269j,  4.97144035e-03-0.0059576j ],\n",
       "        [-1.10217272e-02-0.002913j  , -2.07589212e-02+0.01186461j,\n",
       "          3.68620575e-04-0.00213041j, ...,  9.50735169e-03+0.00784667j,\n",
       "         -9.44885552e-03-0.00140207j,  1.75685199e-02-0.00199365j],\n",
       "        [-1.61983715e-02-0.02366164j,  3.81567286e-04-0.01225463j,\n",
       "         -5.10529317e-03+0.01386747j, ...,  1.36386263e-02-0.01763289j,\n",
       "         -2.22979209e-03+0.0179084j ,  2.53419704e-03-0.00572204j],\n",
       "        ...,\n",
       "        [-4.86333835e-03-0.0084276j , -4.17673248e-03+0.0075975j ,\n",
       "          2.56918409e-02+0.006083j  , ..., -6.44495363e-03+0.01114769j,\n",
       "          2.51783653e-02+0.0125998j ,  1.82242400e-02+0.01124418j],\n",
       "        [ 8.90796772e-03+0.00571203j,  1.07135970e-02-0.01574052j,\n",
       "          1.52434379e-02+0.00468098j, ..., -3.87043259e-02+0.00030314j,\n",
       "          2.41578483e-02+0.00918538j, -4.07917528e-02-0.02596012j],\n",
       "        [-3.23724005e-02+0.00764197j,  1.06095867e-02-0.00982387j,\n",
       "          7.56460380e-03+0.01477796j, ...,  1.04488404e-03-0.01255574j,\n",
       "         -7.79406948e-03+0.00202877j, -2.99884681e-03-0.01195403j]]])"
      ]
     },
     "execution_count": 6,
     "metadata": {},
     "output_type": "execute_result"
    }
   ],
   "source": [
    "meson_elemental[0]"
   ]
  },
  {
   "cell_type": "code",
   "execution_count": 3,
   "metadata": {},
   "outputs": [
    {
     "ename": "ValueError",
     "evalue": "operand has more dimensions than subscripts given in einstein sum, but no '...' ellipsis provided to broadcast the extra dimensions.",
     "output_type": "error",
     "traceback": [
      "\u001b[0;31m---------------------------------------------------------------------------\u001b[0m",
      "\u001b[0;31mValueError\u001b[0m                                Traceback (most recent call last)",
      "Cell \u001b[0;32mIn[3], line 2\u001b[0m\n\u001b[1;32m      1\u001b[0m pion \u001b[38;5;241m=\u001b[39m np\u001b[38;5;241m.\u001b[39mzeros(Lt, dtype\u001b[38;5;241m=\u001b[39mnp\u001b[38;5;241m.\u001b[39mcdouble)  \u001b[38;5;66;03m# Shape (96, 200) for each tsrc\u001b[39;00m\n\u001b[0;32m----> 2\u001b[0m phi_0 \u001b[38;5;241m=\u001b[39m \u001b[43mnp\u001b[49m\u001b[38;5;241;43m.\u001b[39;49m\u001b[43meinsum\u001b[49m\u001b[43m(\u001b[49m\u001b[38;5;124;43m\"\u001b[39;49m\u001b[38;5;124;43mij,ab->ijab\u001b[39;49m\u001b[38;5;124;43m\"\u001b[39;49m\u001b[43m,\u001b[49m\u001b[43m \u001b[49m\u001b[43mgamma\u001b[49m\u001b[38;5;241;43m.\u001b[39;49m\u001b[43mgamma\u001b[49m\u001b[43m[\u001b[49m\u001b[38;5;241;43m5\u001b[39;49m\u001b[43m]\u001b[49m\u001b[43m,\u001b[49m\u001b[43m \u001b[49m\u001b[43mmeson_elemental\u001b[49m\u001b[43m[\u001b[49m\u001b[38;5;241;43m0\u001b[39;49m\u001b[43m]\u001b[49m\u001b[43m)\u001b[49m\n\u001b[1;32m      4\u001b[0m \u001b[38;5;28;01mfor\u001b[39;00m tsrc \u001b[38;5;129;01min\u001b[39;00m \u001b[38;5;28mrange\u001b[39m(num_tsrcs):\n\u001b[1;32m      5\u001b[0m     \u001b[38;5;28;01mfor\u001b[39;00m t \u001b[38;5;129;01min\u001b[39;00m \u001b[38;5;28mrange\u001b[39m(Lt):\n",
      "File \u001b[0;32m~/.pyenv/versions/3.11.4/lib/python3.11/site-packages/numpy/core/einsumfunc.py:1371\u001b[0m, in \u001b[0;36meinsum\u001b[0;34m(out, optimize, *operands, **kwargs)\u001b[0m\n\u001b[1;32m   1369\u001b[0m     \u001b[38;5;28;01mif\u001b[39;00m specified_out:\n\u001b[1;32m   1370\u001b[0m         kwargs[\u001b[38;5;124m'\u001b[39m\u001b[38;5;124mout\u001b[39m\u001b[38;5;124m'\u001b[39m] \u001b[38;5;241m=\u001b[39m out\n\u001b[0;32m-> 1371\u001b[0m     \u001b[38;5;28;01mreturn\u001b[39;00m \u001b[43mc_einsum\u001b[49m\u001b[43m(\u001b[49m\u001b[38;5;241;43m*\u001b[39;49m\u001b[43moperands\u001b[49m\u001b[43m,\u001b[49m\u001b[43m \u001b[49m\u001b[38;5;241;43m*\u001b[39;49m\u001b[38;5;241;43m*\u001b[39;49m\u001b[43mkwargs\u001b[49m\u001b[43m)\u001b[49m\n\u001b[1;32m   1373\u001b[0m \u001b[38;5;66;03m# Check the kwargs to avoid a more cryptic error later, without having to\u001b[39;00m\n\u001b[1;32m   1374\u001b[0m \u001b[38;5;66;03m# repeat default values here\u001b[39;00m\n\u001b[1;32m   1375\u001b[0m valid_einsum_kwargs \u001b[38;5;241m=\u001b[39m [\u001b[38;5;124m'\u001b[39m\u001b[38;5;124mdtype\u001b[39m\u001b[38;5;124m'\u001b[39m, \u001b[38;5;124m'\u001b[39m\u001b[38;5;124morder\u001b[39m\u001b[38;5;124m'\u001b[39m, \u001b[38;5;124m'\u001b[39m\u001b[38;5;124mcasting\u001b[39m\u001b[38;5;124m'\u001b[39m]\n",
      "\u001b[0;31mValueError\u001b[0m: operand has more dimensions than subscripts given in einstein sum, but no '...' ellipsis provided to broadcast the extra dimensions."
     ]
    }
   ],
   "source": [
    "pion = np.zeros(Lt, dtype=np.cdouble)  # Shape (96, 200) for each tsrc\n",
    "phi_0 = np.einsum(\"ij,ab->ijab\", gamma.gamma[5], meson_elemental[0])\n",
    "\n",
    "for tsrc in range(num_tsrcs):\n",
    "    for t in range(Lt):\n",
    "        phi_t = np.einsum(\"ij,ab->ijab\", gamma.gamma[5], meson_elemental[t], optimize='optimal')\n",
    "        tau = peram[tsrc, t, :, :, :, :]\n",
    "        tau_ = peram_back[tsrc, t, :, :, :, :]\n",
    "        # Contract pion, assuming the 200 dimension comes from an appropriate contraction of indices\n",
    "        contracted_result = np.einsum(\"ijab,jkbc,klcd,lida\", phi_t, tau, phi_0, tau_, optimize='optimal')\n",
    "        \n",
    "        # Store the contracted result in the pion array (Lt, 200)\n",
    "        pion[t] = contracted_result  # Ensure this matches the dimension of 200.\n",
    "\n",
    "pion = pion.real\n",
    "# h5_group.create_dataset(f'tsrc_{tsrc}/cfg_{cfg_id}', data=pion)\n",
    "\n",
    "plt.plot(np.arange(Lt), pion[:, 0], '.',)\n",
    "plt.yscale('log')\n",
    "plt.legend()\n",
    "# plt.savefig(f'pion-{cfg_id}-tsrc-{tsrc}-{num_vecs}-{datetime.datetime.today()}.pdf')"
   ]
  }
 ],
 "metadata": {
  "kernelspec": {
   "display_name": "Python 3",
   "language": "python",
   "name": "python3"
  },
  "language_info": {
   "codemirror_mode": {
    "name": "ipython",
    "version": 3
   },
   "file_extension": ".py",
   "mimetype": "text/x-python",
   "name": "python",
   "nbconvert_exporter": "python",
   "pygments_lexer": "ipython3",
   "version": "3.11.4"
  }
 },
 "nbformat": 4,
 "nbformat_minor": 2
}
