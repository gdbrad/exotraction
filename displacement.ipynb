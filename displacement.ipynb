{
 "cells": [
  {
   "cell_type": "code",
   "execution_count": 1,
   "metadata": {},
   "outputs": [
    {
     "name": "stdout",
     "output_type": "stream",
     "text": [
      "{1: array([[0.+0.j, 0.+0.j, 0.+0.j, 0.+1.j],\n",
      "       [0.+0.j, 0.+0.j, 0.+1.j, 0.+0.j],\n",
      "       [0.-0.j, 0.-1.j, 0.+0.j, 0.+0.j],\n",
      "       [0.-1.j, 0.-0.j, 0.+0.j, 0.+0.j]]), 2: array([[ 0.+0.j,  0.+0.j,  0.-0.j, -1.+0.j],\n",
      "       [ 0.+0.j,  0.+0.j,  1.-0.j,  0.-0.j],\n",
      "       [ 0.+0.j,  1.-0.j,  0.+0.j,  0.+0.j],\n",
      "       [-1.+0.j,  0.+0.j,  0.+0.j,  0.+0.j]]), 3: array([[ 0.+0.j,  0.+0.j,  0.+1.j,  0.+0.j],\n",
      "       [ 0.+0.j,  0.+0.j,  0.+0.j, -0.-1.j],\n",
      "       [ 0.-1.j,  0.-0.j,  0.+0.j,  0.+0.j],\n",
      "       [ 0.-0.j,  0.+1.j,  0.+0.j,  0.+0.j]]), 4: array([[0.+0.j, 0.+0.j, 1.+0.j, 0.+0.j],\n",
      "       [0.+0.j, 0.+0.j, 0.+0.j, 1.+0.j],\n",
      "       [1.+0.j, 0.+0.j, 0.+0.j, 0.+0.j],\n",
      "       [0.+0.j, 1.+0.j, 0.+0.j, 0.+0.j]]), 5: array([[ 1.+0.j,  0.+0.j,  0.+0.j,  0.+0.j],\n",
      "       [ 0.+0.j,  1.+0.j,  0.+0.j,  0.+0.j],\n",
      "       [ 0.+0.j,  0.+0.j, -1.+0.j,  0.+0.j],\n",
      "       [ 0.+0.j,  0.+0.j,  0.+0.j, -1.+0.j]])}\n"
     ]
    }
   ],
   "source": [
    "import h5py\n",
    "import numpy as np\n",
    "from typing import List,Dict \n",
    "import os\n",
    "import argparse\n",
    "import datetime\n",
    "from ingest_data import load_elemental, load_peram, reverse_perambulator_time\n",
    "import gamma as gamma\n",
    "# from displacement import displacement_map\n",
    "# from displacement import deriv_names\n",
    "\n",
    "import scipy \n",
    "from scipy import sparse"
   ]
  },
  {
   "cell_type": "code",
   "execution_count": 2,
   "metadata": {},
   "outputs": [
    {
     "name": "stdout",
     "output_type": "stream",
     "text": [
      "[[ 0.+0.j  0.+0.j  0.-0.j -1.+0.j]\n",
      " [ 0.+0.j  0.+0.j  1.-0.j  0.-0.j]\n",
      " [ 0.+0.j  1.-0.j  0.+0.j  0.+0.j]\n",
      " [-1.+0.j  0.+0.j  0.+0.j  0.+0.j]]\n",
      "[[0.+0.j 0.+0.j 1.+0.j 0.+0.j]\n",
      " [0.+0.j 0.+0.j 0.+0.j 1.+0.j]\n",
      " [1.+0.j 0.+0.j 0.+0.j 0.+0.j]\n",
      " [0.+0.j 1.+0.j 0.+0.j 0.+0.j]]\n",
      "[[ 1.+0.j  0.+0.j  0.+0.j  0.+0.j]\n",
      " [ 0.+0.j  1.+0.j  0.+0.j  0.+0.j]\n",
      " [ 0.+0.j  0.+0.j -1.+0.j  0.+0.j]\n",
      " [ 0.+0.j  0.+0.j  0.+0.j -1.+0.j]]\n"
     ]
    }
   ],
   "source": [
    "print(gamma.gamma[2])\n",
    "print(gamma.gamma[4])\n",
    "print(gamma.gamma[5])"
   ]
  },
  {
   "cell_type": "code",
   "execution_count": 3,
   "metadata": {},
   "outputs": [
    {
     "name": "stdout",
     "output_type": "stream",
     "text": [
      "Reading propagator file: /home/grant/jureca_exolaunch/perams_sdb/numvec32/tsrc-24/peram_32_cfg101.h5\n",
      "Reading meson elementals file: /home/grant/jureca_exolaunch/meson_sdb/numvec32/meson-32_cfg101.h5\n",
      "Reading meson elementals file: /home/grant/jureca_exolaunch/meson_sdb/numvec32/meson-32_cfg101.h5\n"
     ]
    },
    {
     "name": "stderr",
     "output_type": "stream",
     "text": [
      "                                               \r"
     ]
    },
    {
     "name": "stdout",
     "output_type": "stream",
     "text": [
      "Reading propagator file: /home/grant/jureca_exolaunch/perams_sdb/numvec32/tsrc-24/peram_32_cfg101.h5\n"
     ]
    },
    {
     "name": "stderr",
     "output_type": "stream",
     "text": [
      "                                                                  \r"
     ]
    },
    {
     "name": "stdout",
     "output_type": "stream",
     "text": [
      "Computing the time-reversed perambulator\n"
     ]
    },
    {
     "name": "stderr",
     "output_type": "stream",
     "text": [
      "                                                                                 \r"
     ]
    },
    {
     "name": "stdout",
     "output_type": "stream",
     "text": [
      "gamma[5] shape: (4, 4)\n",
      "peramb_reverse shape: (24, 96, 4, 4, 32, 32)\n"
     ]
    }
   ],
   "source": [
    "num_vecs = 32\n",
    "Lt=96 \n",
    "num_tsrcs = 24 \n",
    "h5_path = os.path.abspath('/home/grant/jureca_exolaunch')\n",
    "peram_dir = os.path.join(h5_path, 'perams_sdb', f'numvec{num_vecs}', f'tsrc-{num_tsrcs}')\n",
    "meson_dir = os.path.join(h5_path, 'meson_sdb', f'numvec{num_vecs}')\n",
    "peram_file = os.path.join(peram_dir,\"peram_32_cfg101.h5\")\n",
    "meson_file = os.path.join(meson_dir,\"meson-32_cfg101.h5\")\n",
    "\n",
    "\n",
    "print(f\"Reading propagator file: {peram_file}\")\n",
    "print(f\"Reading meson elementals file: {meson_file}\")\n",
    "meson_elemental = load_elemental(meson_file, Lt, num_vecs, mom='mom_0_0_0', disp='disp_1')\n",
    "peram = load_peram(peram_file, Lt, num_vecs, num_tsrcs)\n",
    "\n",
    "peram_back = reverse_perambulator_time(peram)\n"
   ]
  },
  {
   "cell_type": "code",
   "execution_count": 4,
   "metadata": {},
   "outputs": [],
   "source": [
    "# define local operators using gamma matrices \n",
    "import scipy as scp\n",
    "import gamma \n",
    "I = np.identity(4)\n",
    "I_dist = scp.sparse.csr_matrix(np.identity(96))\n",
    "I_sparse = scp.sparse.csr_matrix(I)\n",
    "g5_block = scp.sparse.kron(I,gamma.gamma[5],format='csr')\n",
    "g5_sparse = scp.sparse.csr_matrix(gamma.gamma[5])\n",
    "g4_block = scp.sparse.kron(I,gamma.gamma[4],format='csr')\n",
    "g4_sparse = scp.sparse.csr_matrix(gamma.gamma[4])\n",
    "g3_block = scp.sparse.kron(I,gamma.gamma[3],format='csr')\n",
    "g3_sparse = scp.sparse.csr_matrix(gamma.gamma[3])\n",
    "g2_block = scp.sparse.kron(I,gamma.gamma[2],format='csr')\n",
    "g2_sparse = scp.sparse.csr_matrix(gamma.gamma[2])\n",
    "g1_block = scp.sparse.kron(I,gamma.gamma[1],format='csr')\n",
    "g1_sparse = scp.sparse.csr_matrix(gamma.gamma[1])\n",
    "\n",
    "\n",
    "gamma_i_block = [g1_block,g2_block,g3_block]\n",
    "#to be looped over based on value of i index in derivative \n",
    "\n",
    "gamma_i = [gamma.gamma[1],gamma.gamma[2],gamma.gamma[3],gamma.gamma[4]]\n",
    "gamma_i_sparse = [g1_sparse,g2_sparse,g3_sparse]\n",
    "from dataclasses import dataclass\n",
    "@dataclass\n",
    "class IrrepNames:\n",
    "    wp:str         ## Irrep with parity\n",
    "    np: str          ## Irrep no parity\n",
    "    ferm: bool          ## Is this a double cover?\n",
    "    lg: bool            ## LG?\n",
    "    dim: int            ## dimension\n",
    "    G: int              ## G-parity\n",
    "    \n",
    "irrep_names_no_par = {\n",
    "  \"A1\": IrrepNames(wp= \"A1\", np= \"A1\", ferm= False, lg= False, dim= 1, G= 0),\n",
    "  \"A2\": IrrepNames(wp= \"A2\", np= \"A2\", ferm= False, lg= False, dim= 1, G= 0),\n",
    "  \"T1\": IrrepNames(wp= \"T1\", np= \"T1\", ferm= False, lg= False, dim= 3, G= 0),\n",
    "  \"T2\": IrrepNames(wp= \"T2\", np= \"T2\", ferm= False, lg= False, dim= 3, G= 0),\n",
    "  \"E\": IrrepNames(wp= \"E\", np= \"E\", ferm= False, lg= False, dim= 2, G= 0),\n",
    "}\n"
   ]
  },
  {
   "cell_type": "markdown",
   "metadata": {},
   "source": [
    "## Single derivative operators of type $\\bar{\\psi_2}\\Gamma_i\\overrightarrow{D_j} \\psi_1$\n",
    "The displacements in the displacement list that we include here are :\n",
    "\n",
    "- disp_1 \n",
    "- disp_2\n",
    "- disp_3\n",
    "\n",
    "which using the `IrrepNames' class will extract the info out of the rows from table in \n",
    "https://arxiv.org/pdf/0707.4162 and form a matrix of hermitian operators, thus possessing the qualities: \n",
    "- complex valued square matrix \n",
    "- equiv. to its conjugazte transpose \n",
    "- \n",
    "\n",
    "see https://web.mit.edu/~joshlin/www/dox/deriv__quark__displacement__w_8cc_source.html\n",
    "D acts only on $\\psi_1$\n",
    "\n",
    "with gamma structure $\\gamma_4\\gamma_5\\gamma_i$\n",
    "\n",
    "PionxNabla_T1 source "
   ]
  },
  {
   "cell_type": "code",
   "execution_count": 10,
   "metadata": {},
   "outputs": [
    {
     "name": "stdout",
     "output_type": "stream",
     "text": [
      "Reading meson elementals file: /home/grant/jureca_exolaunch/meson_sdb/numvec32/meson-32_cfg101.h5\n"
     ]
    },
    {
     "name": "stderr",
     "output_type": "stream",
     "text": [
      "  0%|          | 0/96 [00:00<?, ?it/s]"
     ]
    },
    {
     "name": "stderr",
     "output_type": "stream",
     "text": [
      "                                               \r"
     ]
    },
    {
     "name": "stdout",
     "output_type": "stream",
     "text": [
      "Reading meson elementals file: /home/grant/jureca_exolaunch/meson_sdb/numvec32/meson-32_cfg101.h5\n"
     ]
    },
    {
     "name": "stderr",
     "output_type": "stream",
     "text": [
      "                                               \r"
     ]
    },
    {
     "name": "stdout",
     "output_type": "stream",
     "text": [
      "Reading meson elementals file: /home/grant/jureca_exolaunch/meson_sdb/numvec32/meson-32_cfg101.h5\n"
     ]
    },
    {
     "name": "stderr",
     "output_type": "stream",
     "text": [
      "                                               \r"
     ]
    },
    {
     "name": "stdout",
     "output_type": "stream",
     "text": [
      "(96, 32, 32)\n",
      "[[ 1.21934699e+00  1.10669413e+00  1.05588893e+00]\n",
      " [-3.67366494e-02 -4.88181042e-02 -4.01666280e-02]\n",
      " [-8.59872743e-03 -5.73234339e-03 -1.62679244e-02]\n",
      " [-1.26041270e-02 -6.80040746e-03 -7.89567277e-03]\n",
      " [-5.88580675e-03 -4.07228470e-03 -7.15183291e-03]\n",
      " [-1.34972202e-03 -4.03331464e-03 -3.64887505e-03]\n",
      " [-1.52377241e-03  1.78081225e-03 -1.48496412e-03]\n",
      " [-2.56065194e-03 -1.99179374e-03  6.71012240e-06]\n",
      " [-3.20894901e-03  3.57897142e-04  1.79360283e-03]\n",
      " [ 3.40443595e-04 -7.25602052e-04  1.44920668e-03]\n",
      " [-2.03648152e-03  2.49279434e-04  7.55617782e-04]\n",
      " [-5.62742349e-04  1.16442437e-04  9.67964812e-04]\n",
      " [-1.02052612e-03  2.08990302e-04  2.92195674e-04]\n",
      " [-5.14266413e-04  8.49253476e-05 -2.08925657e-04]\n",
      " [-1.55600036e-04 -1.70097451e-04 -1.25002651e-04]\n",
      " [-1.69604068e-04 -2.45658069e-06  3.44753481e-04]\n",
      " [-1.38098815e-04  1.59261816e-04  2.83091997e-04]\n",
      " [-4.66885889e-04 -2.04486032e-04  2.89003535e-04]\n",
      " [-2.75410624e-04 -1.64708959e-04 -2.54627395e-05]\n",
      " [-1.61423381e-04  3.31876716e-04 -6.66704922e-05]\n",
      " [ 2.82553866e-05  4.62442897e-07 -3.27396494e-04]\n",
      " [ 1.10349620e-04 -1.44157436e-04  1.29875436e-04]\n",
      " [ 1.56037681e-04 -2.26909914e-05 -1.91844103e-04]\n",
      " [ 6.37907533e-05  1.36457258e-04  1.25795351e-05]\n",
      " [ 2.71940834e-04 -5.02467997e-05 -1.49982192e-04]\n",
      " [ 1.04700402e-04 -3.66065920e-05 -2.35547539e-05]\n",
      " [ 6.79461724e-05  8.06858072e-05 -1.92326558e-05]\n",
      " [-1.17703597e-04  8.12621307e-05 -3.70511041e-05]\n",
      " [ 1.60757930e-04  2.95042843e-04 -5.18875038e-05]\n",
      " [ 8.59771327e-05  9.21287708e-05  4.06395624e-05]\n",
      " [-3.37885056e-06  3.04861914e-05  4.54097442e-05]\n",
      " [ 5.06703266e-05  6.31498344e-05  4.57452085e-05]\n",
      " [-7.91561919e-05  5.00375723e-05  1.48996228e-05]\n",
      " [-2.71179282e-05  2.57336101e-05 -4.60492152e-05]\n",
      " [-8.71232449e-06  1.30963451e-05 -5.25191913e-05]\n",
      " [-3.03309322e-05  1.93989162e-05 -1.95432383e-05]\n",
      " [-5.64385239e-05  1.40960669e-05 -1.26831153e-05]\n",
      " [ 8.22030356e-06  2.31785413e-05 -2.47898750e-05]\n",
      " [-2.17369355e-06  3.88088163e-05  1.38791485e-05]\n",
      " [-3.27008144e-05 -6.70184785e-06 -1.54769179e-05]\n",
      " [ 1.45602295e-05  1.24382491e-05  7.00368396e-06]\n",
      " [-4.08505765e-06  2.40929261e-05 -7.14289767e-06]\n",
      " [ 8.05063620e-06 -1.17472887e-06  3.71906067e-06]\n",
      " [-1.23445035e-05 -3.09610672e-06  4.29854046e-06]\n",
      " [-5.49468077e-06  7.57930372e-06  5.16505320e-06]\n",
      " [-1.09838554e-05 -1.04891016e-06  7.44842111e-06]\n",
      " [ 2.73812796e-05 -3.01489860e-06  1.55922997e-05]\n",
      " [ 8.24679799e-07 -8.40015514e-06  2.38343785e-07]\n",
      " [ 6.90581780e-06 -9.99995488e-06 -6.49014432e-07]\n",
      " [ 2.02308954e-05  3.57267219e-06 -1.34844521e-06]\n",
      " [-3.99674689e-06  1.23292713e-05 -1.94206688e-05]\n",
      " [-2.92500089e-06  1.07586356e-06 -1.02644498e-05]\n",
      " [-3.61593196e-05  2.50365118e-05  2.09883017e-06]\n",
      " [-2.14644052e-05  2.36276284e-05 -1.45710212e-05]\n",
      " [-7.56956354e-06  2.33687507e-05  1.29922427e-05]\n",
      " [-2.17168058e-05  6.66640940e-06  5.28990288e-06]\n",
      " [-5.80935446e-05 -4.89832910e-06 -2.09080363e-05]\n",
      " [-4.49671108e-05  9.18875837e-06 -2.07883432e-05]\n",
      " [ 1.10371304e-05  3.55020459e-06  1.85939723e-05]\n",
      " [-5.39454907e-05 -5.28571403e-05 -1.03553471e-05]\n",
      " [-1.23296958e-05  4.68378873e-05  2.08859821e-05]\n",
      " [ 3.71419709e-05  2.75708480e-08  9.06667037e-06]\n",
      " [-3.35953236e-05 -5.66252446e-05 -3.60168035e-05]\n",
      " [-1.74955567e-05  6.59965468e-06 -3.32456460e-05]\n",
      " [ 3.27678470e-05  1.05033764e-04 -5.59197703e-05]\n",
      " [-3.39920706e-06  4.47732359e-05 -2.12569380e-05]\n",
      " [ 3.83156089e-05  7.82247148e-05  1.59726203e-05]\n",
      " [ 1.47886279e-04 -4.38150391e-05  9.13121578e-05]\n",
      " [-4.57111571e-05  1.22501932e-04 -9.14550108e-05]\n",
      " [-4.71291687e-05  4.85576065e-05  1.45556284e-04]\n",
      " [ 7.08471613e-05  3.66152187e-04 -1.26015626e-04]\n",
      " [ 1.32384941e-04  2.02750741e-04 -1.42302964e-04]\n",
      " [-5.98541806e-04 -1.31450463e-05  8.13294562e-06]\n",
      " [-3.36800622e-04  1.81309666e-04 -2.92416633e-04]\n",
      " [-4.32619911e-04  2.45702645e-05 -1.72162783e-04]\n",
      " [-1.73907128e-04  2.14964716e-04  4.60365750e-04]\n",
      " [-1.06541060e-03 -2.76800759e-05  2.05655491e-04]\n",
      " [-9.40746764e-04  3.07471826e-04 -2.23118580e-04]\n",
      " [-3.47916044e-04 -4.41954190e-04  2.41232470e-05]\n",
      " [-3.58000746e-04 -5.53739623e-04  2.85991772e-04]\n",
      " [-1.16056245e-03 -2.18808351e-04 -5.17659141e-05]\n",
      " [-8.82983883e-04 -4.81998127e-04 -8.12603192e-05]\n",
      " [-2.86892804e-04 -5.60708028e-04 -7.50532101e-05]\n",
      " [-4.06076591e-04  8.25777543e-05  1.19465278e-04]\n",
      " [ 6.38486682e-04 -5.05406453e-04  3.47551750e-04]\n",
      " [-1.32306949e-03  6.29249990e-04 -1.41478730e-04]\n",
      " [ 1.17097826e-03  3.44094771e-04  1.28334888e-03]\n",
      " [-2.53605442e-03  9.05074097e-04  7.00066322e-05]\n",
      " [-6.60144941e-04 -3.21050319e-04 -2.64716343e-03]\n",
      " [-1.48867961e-03  5.07042337e-04  1.11238021e-03]\n",
      " [ 5.90871979e-04 -1.51867220e-03  1.16935023e-04]\n",
      " [ 1.58555589e-03 -2.50688452e-03 -1.39465993e-03]\n",
      " [-4.82221228e-03 -4.12474745e-03 -8.52401954e-03]\n",
      " [-5.15169622e-03 -1.00685042e-02 -6.49686493e-03]\n",
      " [-1.34128216e-02 -1.73988378e-02 -1.54334909e-02]\n",
      " [-5.08052203e-02 -5.43763300e-02 -5.25974506e-02]]\n"
     ]
    }
   ],
   "source": [
    "Nt = 96\n",
    "nop = 3\n",
    "# load 1 derivative elementals\n",
    "\n",
    "# for pion this should be just 1 \n",
    "# if doing all mesons in chroma gamma table then increase the nops \n",
    "\n",
    "\n",
    "nabla_i = np.zeros((Nt,3,num_vecs,num_vecs),dtype=np.cdouble) \n",
    "# these are shape (96,96)\n",
    "D1 = load_elemental(meson_file, Lt, num_vecs, mom='mom_0_0_0', disp='disp_1')\n",
    "D2 = load_elemental(meson_file, Lt, num_vecs, mom='mom_0_0_0', disp='disp_2')\n",
    "D3 = load_elemental(meson_file, Lt, num_vecs, mom='mom_0_0_0', disp='disp_3')\n",
    "\n",
    "print(D1.shape)\n",
    "# D1D1 = load_elemental(meson_file, Lt, num_vecs, mom='mom_0_0_0', disp='disp_1_1')\n",
    "# D1D2 = load_elemental(meson_file, Lt, num_vecs, mom='mom_0_0_0', disp='disp_1_2')\n",
    "# D1D3 = load_elemental(meson_file, Lt, num_vecs, mom='mom_0_0_0', disp='disp_1_3')\n",
    "g5 = gamma.gamma[5]\n",
    "g4 = gamma.gamma[4]\n",
    "g3 = gamma.gamma[3]\n",
    "\n",
    "g2 = gamma.gamma[2]\n",
    "\n",
    "g1 = gamma.gamma[1]\n",
    "\n",
    "gamma_i = [gamma.gamma[1],gamma.gamma[2],gamma.gamma[3],gamma.gamma[4]]\n",
    "\n",
    "# these should now become dense in distillation space \n",
    "# D operator acting on the jth laplacian \n",
    "pix_nabla = np.zeros((Nt,nop), dtype=np.cdouble)  # Shape (96,4,200) for each tsrc\n",
    "# D_i = \n",
    "\n",
    "## operator insertion with elemental ## \n",
    "## insertion needs: gamma structure, derivative, irrep projection, momentum \n",
    "# D1_phi_0 = scipy.sparse.kron(D1[0],gamma_i[0]@g5)\n",
    "\n",
    "D1_phi_0 = np.einsum(\"ij,ab->ijab\", g5@g1, D1[0])\n",
    "D2_phi_0 = np.einsum(\"ij,ab->ijab\", g5@g2, D2[0])\n",
    "D3_phi_0 = np.einsum(\"ij,ab->ijab\", g5@g3, D3[0])\n",
    "\n",
    "\n",
    "# D1D1_phi_0_1 = np.einsum(\"ij,ab->ijab\", gamma_i[0] @ g5@g4, D1D1[0])\n",
    "# D1D1_phi_0_2 = np.einsum(\"ij,ab->ijab\", gamma_i[1] @ g5@g4, D1D1[0])\n",
    "\n",
    "# D1D1_phi_0 = D1D1_phi_0_1 + D1D1_phi_0_2\n",
    "\n",
    "# D1D2_phi_0_1 = np.einsum(\"ij,ab->ijab\", gamma_i[0] @ g5@g4, D1D2[0])\n",
    "# D1D2_phi_0_2 = np.einsum(\"ij,ab->ijab\", gamma_i[1] @ g5@g4, D1D2[0])\n",
    "# D1D2_phi_0_3 = np.einsum(\"ij,ab->ijab\", gamma_i[2] @ g5@g4, D1D2[0])\n",
    "\n",
    "# D1D2_phi_0 = D1D2_phi_0_1 + D1D2_phi_0_2 + D1D2_phi_0_3\n",
    "\n",
    "# D1D3_phi_0_1 = np.einsum(\"ij,ab->ijab\", gamma_i[0] @ g5@g4, D1D3[0])\n",
    "# D1D3_phi_0_2 = np.einsum(\"ij,ab->ijab\", gamma_i[1] @ g5@g4, D1D3[0])\n",
    "# D1D3_phi_0_3 = np.einsum(\"ij,ab->ijab\", gamma_i[2] @ g5@g4, D1D3[0])\n",
    "# D1D3_phi_0_4 = np.einsum(\"ij,ab->ijab\", gamma_i[3] @ g5@g4, D1D3[0])\n",
    "\n",
    "# D1D3_phi_0 = D1D3_phi_0_1 + D1D3_phi_0_2 + D1D3_phi_0_3+ D1D3_phi_0_4\n",
    "\n",
    "# D1D1_phi_0 = scipy.sparse.kron(D1D1[0],gamma_i[0]@g5)+ scipy.sparse.kron(D1D1[0],gamma_i[1]@g5) \n",
    "\n",
    "# D1D2_phi_0 = scipy.sparse.kron(D1D2[0],gamma_i[0]@g5)+ scipy.sparse.kron(D1D2[0],gamma_i[1]@g5) \n",
    "\n",
    "# D1D3_phi_0 = scipy.sparse.kron(D1D3[0],gamma_i[0]@g5)+ scipy.sparse.kron(D1D3[0],gamma_i[1]@g5) + scipy.sparse.kron(D1D3[0],gamma_i[2]@g5)\n",
    "\n",
    "for tsrc in range(1):\n",
    "    for t in range(Lt):\n",
    "        D1_phi_t = np.einsum(\"ij,ab->ijab\", g5@g1, D1[t])\n",
    "        D2_phi_t = np.einsum(\"ij,ab->ijab\", g5@g2, D2[t])\n",
    "        D3_phi_t = np.einsum(\"ij,ab->ijab\", g5@g3, D3[t])\n",
    "\n",
    "\n",
    "        # D1D1_phi_0_1 = np.einsum(\"ij,ab->ijab\", gamma_i[0] @ g5@g4, D1D1[t])\n",
    "        # D1D1_phi_0_2 = np.einsum(\"ij,ab->ijab\", gamma_i[1] @ g5@g4, D1D1[t])\n",
    "\n",
    "        # D1D1_phi_t = D1D1_phi_0_1 + D1D1_phi_0_2\n",
    "\n",
    "        # D1D2_phi_0_1 = np.einsum(\"ij,ab->ijab\", gamma_i[0] @ g5@g4, D1D2[t])\n",
    "        # D1D2_phi_0_2 = np.einsum(\"ij,ab->ijab\", gamma_i[1] @ g5@g4, D1D2[t])\n",
    "        # D1D2_phi_0_3 = np.einsum(\"ij,ab->ijab\", gamma_i[2] @ g5@g4, D1D2[t])\n",
    "\n",
    "        # D1D2_phi_t = D1D2_phi_0_1 + D1D2_phi_0_2 + D1D2_phi_0_3\n",
    "\n",
    "        # D1D3_phi_0_1 = np.einsum(\"ij,ab->ijab\", gamma_i[0] @ g5@g4, D1D3[t])\n",
    "        # D1D3_phi_0_2 = np.einsum(\"ij,ab->ijab\", gamma_i[1] @ g5@g4, D1D3[t])\n",
    "        # D1D3_phi_0_3 = np.einsum(\"ij,ab->ijab\", gamma_i[2] @ g5@g4, D1D3[t])\n",
    "        # D1D3_phi_0_4 = np.einsum(\"ij,ab->ijab\", gamma_i[3] @ g5@g4, D1D3[t])\n",
    "\n",
    "        # D1D3_phi_t = D1D3_phi_0_1 + D1D3_phi_0_2 + D1D3_phi_0_3+ D1D3_phi_0_4\n",
    "\n",
    "        # phi_t = np.einsum(\"ij,ab->ijab\", gamma.gamma[5], D1[t], optimize='optimal')\n",
    "        # print(phi_t.shape)\n",
    "        # D1_phi_t = scipy.sparse.kron(D1[t],gamma_i[0]@g5)\n",
    "        # print(D1_phi_t.shape)\n",
    "\n",
    "        # D1D1_phi_t = scipy.sparse.kron(D1D1[t],gamma_i[0]@g5)+ scipy.sparse.kron(D1D1[t],gamma_i[1]@g5) \n",
    "\n",
    "        # D1D2_phi_t = scipy.sparse.kron(D1D2[t],gamma_i[0]@g5)+ scipy.sparse.kron(D1D2[t],gamma_i[1]@g5) \n",
    "\n",
    "        # D1D3_phi_t = scipy.sparse.kron(D1D3[t],gamma_i[0]@g5)+ scipy.sparse.kron(D1D3[t],gamma_i[1]) + scipy.sparse.kron(D1D3[t],gamma_i[2]@g5)\n",
    "       \n",
    "        tau = peram[tsrc, t, :, :, :, :]\n",
    "        tau_ = peram_back[tsrc, t, :, :, :, :]\n",
    "        \n",
    "        contracted_result_1 = np.einsum(\"ijab,jkbc,klcd,lida\", D1_phi_t, tau, D1_phi_0, tau_, optimize='optimal')\n",
    "        contracted_result_2 = np.einsum(\"ijab,jkbc,klcd,lida\", D2_phi_t, tau, D2_phi_0, tau_, optimize='optimal')\n",
    "        contracted_result_3 = np.einsum(\"ijab,jkbc,klcd,lida\", D3_phi_t, tau, D3_phi_0, tau_, optimize='optimal')\n",
    "        # contracted_result_11 = np.einsum(\"ijab,jkbc,klcd,lida\", D1D1_phi_t, tau, D1D1_phi_0, tau_, optimize='optimal')\n",
    "        # contracted_result_12 = np.einsum(\"ijab,jkbc,klcd,lida\", D1D2_phi_t, tau, D1D2_phi_0, tau_, optimize='optimal')\n",
    "        # contracted_result_13 = np.einsum(\"ijab,jkbc,klcd,lida\", D1D3_phi_t, tau, D1D3_phi_0, tau_, optimize='optimal')\n",
    "        \n",
    "        # Store the contracted result in the pion array (Lt, nop,200)\n",
    "        pix_nabla[t,0] = contracted_result_1\n",
    "        pix_nabla[t,1] = contracted_result_2\n",
    "        pix_nabla[t,2] = contracted_result_3\n",
    "\n",
    "        # pix_nabla[t,1] = contracted_result_11\n",
    "        # pix_nabla[t,2] = contracted_result_12\n",
    "        # pix_nabla[t,3] = contracted_result_13\n",
    "\n",
    "\n",
    "print(pix_nabla.real)\n",
    "\n",
    "# we have "
   ]
  },
  {
   "cell_type": "code",
   "execution_count": 11,
   "metadata": {},
   "outputs": [
    {
     "data": {
      "image/png": "[encoded data removed]",
      "text/plain": [
       "<Figure size 640x480 with 1 Axes>"
      ]
     },
     "metadata": {},
     "output_type": "display_data"
    }
   ],
   "source": [
    "import matplotlib.pyplot as plt\n",
    "plt.plot(np.arange(Lt), pix_nabla.real[:, :], '.')\n",
    "plt.yscale('log')"
   ]
  },
  {
   "cell_type": "code",
   "execution_count": 7,
   "metadata": {},
   "outputs": [
    {
     "name": "stdout",
     "output_type": "stream",
     "text": [
      "Reading meson elementals file: /home/grant/jureca_exolaunch/meson_sdb/numvec32/meson-32_cfg101.h5\n"
     ]
    },
    {
     "name": "stderr",
     "output_type": "stream",
     "text": [
      "  6%|▋         | 6/96 [00:00<00:01, 52.10it/s]"
     ]
    },
    {
     "name": "stderr",
     "output_type": "stream",
     "text": [
      "                                               \r"
     ]
    },
    {
     "name": "stdout",
     "output_type": "stream",
     "text": [
      "Reading meson elementals file: /home/grant/jureca_exolaunch/meson_sdb/numvec32/meson-32_cfg101.h5\n"
     ]
    },
    {
     "name": "stderr",
     "output_type": "stream",
     "text": [
      "                                               \r"
     ]
    },
    {
     "name": "stdout",
     "output_type": "stream",
     "text": [
      "Reading meson elementals file: /home/grant/jureca_exolaunch/meson_sdb/numvec32/meson-32_cfg101.h5\n"
     ]
    },
    {
     "name": "stderr",
     "output_type": "stream",
     "text": [
      "                                               \r"
     ]
    },
    {
     "name": "stdout",
     "output_type": "stream",
     "text": [
      "Reading meson elementals file: /home/grant/jureca_exolaunch/meson_sdb/numvec32/meson-32_cfg101.h5\n"
     ]
    },
    {
     "name": "stderr",
     "output_type": "stream",
     "text": [
      "                                               \r"
     ]
    },
    {
     "ename": "NameError",
     "evalue": "name 'D1D2_phi_0_1' is not defined",
     "output_type": "error",
     "traceback": [
      "\u001b[0;31m---------------------------------------------------------------------------\u001b[0m",
      "\u001b[0;31mNameError\u001b[0m                                 Traceback (most recent call last)",
      "Cell \u001b[0;32mIn[7], line 26\u001b[0m\n\u001b[1;32m     23\u001b[0m D2D2_phi_0_2 \u001b[38;5;241m=\u001b[39m np\u001b[38;5;241m.\u001b[39meinsum(\u001b[38;5;124m\"\u001b[39m\u001b[38;5;124mij,ab->ijab\u001b[39m\u001b[38;5;124m\"\u001b[39m, gamma_i[\u001b[38;5;241m1\u001b[39m] \u001b[38;5;241m@\u001b[39m g5\u001b[38;5;129m@g4\u001b[39m, D2D2[\u001b[38;5;241m0\u001b[39m])\n\u001b[1;32m     24\u001b[0m D2D2_phi_0_3 \u001b[38;5;241m=\u001b[39m np\u001b[38;5;241m.\u001b[39meinsum(\u001b[38;5;124m\"\u001b[39m\u001b[38;5;124mij,ab->ijab\u001b[39m\u001b[38;5;124m\"\u001b[39m, gamma_i[\u001b[38;5;241m2\u001b[39m] \u001b[38;5;241m@\u001b[39m g5\u001b[38;5;129m@g4\u001b[39m, D2D2[\u001b[38;5;241m0\u001b[39m])\n\u001b[0;32m---> 26\u001b[0m D2D2_phi_0 \u001b[38;5;241m=\u001b[39m \u001b[43mD1D2_phi_0_1\u001b[49m \u001b[38;5;241m+\u001b[39m D1D2_phi_0_2 \u001b[38;5;241m+\u001b[39m D1D2_phi_0_3\n\u001b[1;32m     28\u001b[0m D2D3_phi_0_1 \u001b[38;5;241m=\u001b[39m np\u001b[38;5;241m.\u001b[39meinsum(\u001b[38;5;124m\"\u001b[39m\u001b[38;5;124mij,ab->ijab\u001b[39m\u001b[38;5;124m\"\u001b[39m, gamma_i[\u001b[38;5;241m0\u001b[39m] \u001b[38;5;241m@\u001b[39m g5\u001b[38;5;129m@g4\u001b[39m, D2D3[\u001b[38;5;241m0\u001b[39m])\n\u001b[1;32m     29\u001b[0m D2D3_phi_0_2 \u001b[38;5;241m=\u001b[39m np\u001b[38;5;241m.\u001b[39meinsum(\u001b[38;5;124m\"\u001b[39m\u001b[38;5;124mij,ab->ijab\u001b[39m\u001b[38;5;124m\"\u001b[39m, gamma_i[\u001b[38;5;241m1\u001b[39m] \u001b[38;5;241m@\u001b[39m g5\u001b[38;5;129m@g4\u001b[39m, D2D3[\u001b[38;5;241m0\u001b[39m])\n",
      "\u001b[0;31mNameError\u001b[0m: name 'D1D2_phi_0_1' is not defined"
     ]
    }
   ],
   "source": [
    "# load 2 derivative elementals\n",
    "pixB = np.zeros((Nt,4),dtype=np.cdouble)\n",
    "D2 = load_elemental(meson_file, Lt, num_vecs, mom='mom_0_0_0', disp='disp_2')\n",
    "D2D1 = load_elemental(meson_file, Lt, num_vecs, mom='mom_0_0_0', disp='disp_2_1')\n",
    "D2D2 = load_elemental(meson_file, Lt, num_vecs, mom='mom_0_0_0', disp='disp_2_2')\n",
    "D2D3 = load_elemental(meson_file, Lt, num_vecs, mom='mom_0_0_0', disp='disp_2_3')\n",
    "\n",
    "g5 = gamma.gamma[5]\n",
    "g4 = gamma.gamma[4]\n",
    "gamma_i = [gamma.gamma[1],gamma.gamma[2],gamma.gamma[3],gamma.gamma[4]]\n",
    "\n",
    "# these should now become dense in distillation space \n",
    "# B operator acting on the jth laplacian \n",
    "\n",
    "D2_phi_0 = np.einsum(\"ij,ab->ijab\", gamma_i[0]@g5@g4, D2[0])\n",
    "\n",
    "D2D1_phi_0_1 = np.einsum(\"ij,ab->ijab\", gamma_i[0] @ g5@g4, D2D1[0])\n",
    "D2D1_phi_0_2 = np.einsum(\"ij,ab->ijab\", gamma_i[1] @ g5@g4, D2D1[0])\n",
    "\n",
    "D2D1_phi_0 = D2D1_phi_0_1 + D2D1_phi_0_2\n",
    "\n",
    "D2D2_phi_0_1 = np.einsum(\"ij,ab->ijab\", gamma_i[0] @ g5@g4, D2D2[0])\n",
    "D2D2_phi_0_2 = np.einsum(\"ij,ab->ijab\", gamma_i[1] @ g5@g4, D2D2[0])\n",
    "D2D2_phi_0_3 = np.einsum(\"ij,ab->ijab\", gamma_i[2] @ g5@g4, D2D2[0])\n",
    "\n",
    "D2D2_phi_0 = D1D2_phi_0_1 + D1D2_phi_0_2 + D1D2_phi_0_3\n",
    "\n",
    "D2D3_phi_0_1 = np.einsum(\"ij,ab->ijab\", gamma_i[0] @ g5@g4, D2D3[0])\n",
    "D2D3_phi_0_2 = np.einsum(\"ij,ab->ijab\", gamma_i[1] @ g5@g4, D2D3[0])\n",
    "D2D3_phi_0_3 = np.einsum(\"ij,ab->ijab\", gamma_i[2] @ g5@g4, D2D3[0])\n",
    "D2D3_phi_0_4 = np.einsum(\"ij,ab->ijab\", gamma_i[3] @ g5@g4, D2D3[0])\n",
    "\n",
    "D2D3_phi_0 = D2D3_phi_0_1 + D2D3_phi_0_2 + D2D3_phi_0_3+ D2D3_phi_0_4\n",
    "\n",
    "for tsrc in range(num_tsrcs):\n",
    "    for t in range(Lt):\n",
    "        D2_phi_t = np.einsum(\"ij,ab->ijab\", gamma_i[0]@g5@g4, D2[t])\n",
    "\n",
    "        D2D1_phi_0_1 = np.einsum(\"ij,ab->ijab\", gamma_i[0] @ g5@g4, D2D1[t])\n",
    "        D2D1_phi_0_2 = np.einsum(\"ij,ab->ijab\", gamma_i[1] @ g5@g4, D2D1[t])\n",
    "\n",
    "        D2D1_phi_t = D2D1_phi_0_1 + D2D1_phi_0_2\n",
    "\n",
    "        D2D2_phi_0_1 = np.einsum(\"ij,ab->ijab\", gamma_i[0] @ g5@g4, D2D2[t])\n",
    "        D2D2_phi_0_2 = np.einsum(\"ij,ab->ijab\", gamma_i[1] @ g5@g4, D2D2[t])\n",
    "        D2D2_phi_0_3 = np.einsum(\"ij,ab->ijab\", gamma_i[2] @ g5@g4, D2D2[t])\n",
    "\n",
    "        D2D2_phi_t = D1D2_phi_0_1 + D1D2_phi_0_2 + D1D2_phi_0_3\n",
    "\n",
    "        D2D3_phi_0_1 = np.einsum(\"ij,ab->ijab\", gamma_i[0] @ g5@g4, D2D3[t])\n",
    "        D2D3_phi_0_2 = np.einsum(\"ij,ab->ijab\", gamma_i[1] @ g5@g4, D2D3[t])\n",
    "        D2D3_phi_0_3 = np.einsum(\"ij,ab->ijab\", gamma_i[2] @ g5@g4, D2D3[t])\n",
    "        D2D3_phi_0_4 = np.einsum(\"ij,ab->ijab\", gamma_i[3] @ g5@g4, D2D3[t])\n",
    "\n",
    "        D2D3_phi_t = D2D3_phi_0_1 + D2D3_phi_0_2 + D2D3_phi_0_3+ D2D3_phi_0_4\n",
    "\n",
    "        # phi_t = np.einsum(\"ij,ab->ijab\", gamma.gamma[5], D1[t], optimize='optimal')\n",
    "        # print(phi_t.shape)\n",
    "        # D1_phi_t = scipy.sparse.kron(D1[t],gamma_i[0]@g5)\n",
    "        # print(D1_phi_t.shape)\n",
    "\n",
    "        # D1D1_phi_t = scipy.sparse.kron(D1D1[t],gamma_i[0]@g5)+ scipy.sparse.kron(D1D1[t],gamma_i[1]@g5) \n",
    "\n",
    "        # D1D2_phi_t = scipy.sparse.kron(D1D2[t],gamma_i[0]@g5)+ scipy.sparse.kron(D1D2[t],gamma_i[1]@g5) \n",
    "\n",
    "        # D1D3_phi_t = scipy.sparse.kron(D1D3[t],gamma_i[0]@g5)+ scipy.sparse.kron(D1D3[t],gamma_i[1]) + scipy.sparse.kron(D1D3[t],gamma_i[2]@g5)\n",
    "       \n",
    "        tau = peram[tsrc, t, :, :, :, :]\n",
    "        tau_ = peram_back[tsrc, t, :, :, :, :]\n",
    "        \n",
    "        contracted_result_1 = np.einsum(\"ijab,jkbc,klcd,lida\", D2_phi_t, tau, D2_phi_0, tau_, optimize='optimal')\n",
    "        contracted_result_11 = np.einsum(\"ijab,jkbc,klcd,lida\", D2D1_phi_t, tau, D2D1_phi_0, tau_, optimize='optimal')\n",
    "        contracted_result_12 = np.einsum(\"ijab,jkbc,klcd,lida\", D2D2_phi_t, tau, D2D2_phi_0, tau_, optimize='optimal')\n",
    "        contracted_result_13 = np.einsum(\"ijab,jkbc,klcd,lida\", D2D3_phi_t, tau, D2D3_phi_0, tau_, optimize='optimal')\n",
    "        \n",
    "        # Store the contracted result in the pion array (Lt, nop,200)\n",
    "        pixB[t,0] = contracted_result_1\n",
    "        pixB[t,1] = contracted_result_11\n",
    "        pixB[t,2] = contracted_result_12\n",
    "        pixB[t,3] = contracted_result_13\n",
    "\n",
    "\n",
    "print(pixB.real)\n",
    "plt.plot(np.arange(Lt), pixB.real[:, :], '.')\n",
    "plt.yscale('log')\n"
   ]
  },
  {
   "cell_type": "code",
   "execution_count": 2,
   "metadata": {},
   "outputs": [
    {
     "ename": "NameError",
     "evalue": "name 'np' is not defined",
     "output_type": "error",
     "traceback": [
      "\u001b[0;31m---------------------------------------------------------------------------\u001b[0m",
      "\u001b[0;31mNameError\u001b[0m                                 Traceback (most recent call last)",
      "Cell \u001b[0;32mIn[2], line 3\u001b[0m\n\u001b[1;32m      1\u001b[0m \u001b[38;5;28;01mfrom\u001b[39;00m \u001b[38;5;21;01mscipy\u001b[39;00m \u001b[38;5;28;01mimport\u001b[39;00m sparse \n\u001b[1;32m      2\u001b[0m \u001b[38;5;66;03m# load 3 derivative elementals\u001b[39;00m\n\u001b[0;32m----> 3\u001b[0m D_i \u001b[38;5;241m=\u001b[39m \u001b[43mnp\u001b[49m\u001b[38;5;241m.\u001b[39mzeros((Nt,\u001b[38;5;241m4\u001b[39m,num_vecs,num_vecs),dtype\u001b[38;5;241m=\u001b[39mnp\u001b[38;5;241m.\u001b[39mcdouble)\n\u001b[1;32m      4\u001b[0m \u001b[38;5;66;03m# DxDy is hermitian conjugate of DyDx \u001b[39;00m\n\u001b[1;32m      6\u001b[0m D3 \u001b[38;5;241m=\u001b[39m load_elemental(meson_file, Lt, num_vecs, mom\u001b[38;5;241m=\u001b[39m\u001b[38;5;124m'\u001b[39m\u001b[38;5;124mmom_0_0_0\u001b[39m\u001b[38;5;124m'\u001b[39m, disp\u001b[38;5;241m=\u001b[39m\u001b[38;5;124m'\u001b[39m\u001b[38;5;124mdisp_3\u001b[39m\u001b[38;5;124m'\u001b[39m)\n",
      "\u001b[0;31mNameError\u001b[0m: name 'np' is not defined"
     ]
    }
   ],
   "source": [
    "from scipy import sparse \n",
    "# load 3 derivative elementals\n",
    "D_i = np.zeros((Nt,4,num_vecs,num_vecs),dtype=np.cdouble)\n",
    "# DxDy is hermitian conjugate of DyDx \n",
    "\n",
    "D3 = load_elemental(meson_file, Lt, num_vecs, mom='mom_0_0_0', disp='disp_3')\n",
    "D3D1 = load_elemental(meson_file, Lt, num_vecs, mom='mom_0_0_0', disp='disp_3_1')\n",
    "D3D2 = load_elemental(meson_file, Lt, num_vecs, mom='mom_0_0_0', disp='disp_3_2')\n",
    "D3D3 = load_elemental(meson_file, Lt, num_vecs, mom='mom_0_0_0', disp='disp_3_3')\n",
    "\n",
    "\n",
    "# form gi_Di\n",
    "\n",
    "# form g4_g5_gi_Bi\n",
    "D3_phi_0 = np.einsum(\"ij,ab->ijab\", gamma_i_sparse[0], D3[0])\n",
    "\n",
    "for tsrc in range(num_tsrcs):\n",
    "    for t in range(Nt):\n",
    "        #D3_phi_t = np.einsum(\"ij,ab->ijab\", gamma.gamma[5], meson_elemental[t], optimize='optimal')#\n",
    "        D3_phi_t = scipy.sparse.kron(D3,gamma_i[0]) + scipy.sparse.kron()\n",
    "        tau = peram[tsrc, t, :, :, :, :]\n",
    "        tau_ = peram_back[tsrc, t, :, :, :, :]\n",
    "        # Contract pion, assuming the 200 dimension comes from an appropriate contraction of indices\n",
    "        contracted_result = np.einsum(\"ijab,jkbc,klcd,lida\", phi_t, tau, phi_0, tau_, optimize='optimal')\n",
    "        \n",
    "        # Store the contracted result in the pion array (Lt, 200)\n",
    "        pion[t] = contracted_result  # Ensure this matches the dimension of 200.\n",
    "\n",
    "    pion = pion.real\n",
    "        \n",
    "\n"
   ]
  },
  {
   "cell_type": "code",
   "execution_count": null,
   "metadata": {},
   "outputs": [],
   "source": [
    "\n",
    "pion = np.zeros(Lt, dtype=np.cdouble)  # Shape (96, 200) for each tsrc\n",
    "phi_0 = np.einsum(\"ij,ab->ijab\", gamma.gamma[5], meson_elemental[0])\n",
    "\n",
    "for tsrc in range(num_tsrcs):\n",
    "    for t in range(Lt):\n",
    "        phi_t = np.einsum(\"ij,ab->ijab\", gamma.gamma[5], meson_elemental[t], optimize='optimal')\n",
    "        tau = peram[tsrc, t, :, :, :, :]\n",
    "        tau_ = peram_back[tsrc, t, :, :, :, :]\n",
    "        # Contract pion, assuming the 200 dimension comes from an appropriate contraction of indices\n",
    "        contracted_result = np.einsum(\"ijab,jkbc,klcd,lida\", phi_t, tau, phi_0, tau_, optimize='optimal')\n",
    "        \n",
    "        # Store the contracted result in the pion array (Lt, 200)\n",
    "        pion[t] = contracted_result  # Ensure this matches the dimension of 200.\n",
    "\n",
    "    pion = pion.real\n",
    "    h5_group.create_dataset(f'tsrc_{tsrc}/cfg_{cfg_id}', data=pion)\n",
    "\n",
    "    if show_plot:\n",
    "        plt.plot(np.arange(Lt), pion[:, 0], '.', label=f'Pion Distribution (first column) - tsrc {tsrc}, cfg {cfg_id}')\n",
    "        plt.yscale('log')\n",
    "        plt.legend()\n",
    "        plt.savefig(f'pion-{cfg_id}-tsrc-{tsrc}-{num_vecs}-{datetime.datetime.today()}.pdf')\n",
    "\n",
    "print(f\"Cfg {cfg_id} processed successfully.\")\n",
    "return True\n"
   ]
  },
  {
   "cell_type": "code",
   "execution_count": null,
   "metadata": {},
   "outputs": [],
   "source": [
    "def run(cfg_ids, num_vecs, num_tsrcs, task_id,show_plot=False):\n",
    "    h5_path = os.path.abspath('/p/scratch/exotichadrons/exolaunch')\n",
    "    Lt = 96  \n",
    "    peram_dir = os.path.join(h5_path, 'perams_sdb', f'numvec{num_vecs}', f'tsrc-{num_tsrcs}')\n",
    "    meson_dir = os.path.join(h5_path, 'meson_sdb', f'numvec{num_vecs}')\n",
    "\n",
    "    h5_output_file = f'pion_2pt_nvec_{num_vecs}_tsrc_{num_tsrcs}_task{task_id}.h5'\n",
    "    with h5py.File(h5_output_file, \"w\") as h5f:\n",
    "        h5_group = h5f.create_group('pion_000')\n",
    "        for cfg_id in cfg_ids:\n",
    "            try:\n",
    "                processed = process_configuration(cfg_id, num_vecs, num_tsrcs, peram_dir, meson_dir, Lt, h5_group, show_plot)\n",
    "                if not processed:\n",
    "                    print(f\"Skipping configuration {cfg_id} file is missing\")\n",
    "            except FileNotFoundError as e:\n",
    "                print(e)\n",
    "\n",
    "        print(f\"All cfgs processed & saved to {h5_output_file}.\")\n",
    "\n",
    "cfg_ids =  [\"11\"]\n",
    "nvec = 96 \n",
    "num_tsrcs = 24 \n",
    "show_plot = False\n",
    "task_id = 1\n",
    "\n",
    "run(cfg_ids, num_vecs=nvec, num_tsrcs, show_plot,task_id)"
   ]
  }
 ],
 "metadata": {
  "kernelspec": {
   "display_name": "Python 3",
   "language": "python",
   "name": "python3"
  },
  "language_info": {
   "codemirror_mode": {
    "name": "ipython",
    "version": 3
   },
   "file_extension": ".py",
   "mimetype": "text/x-python",
   "name": "python",
   "nbconvert_exporter": "python",
   "pygments_lexer": "ipython3",
   "version": "3.11.4"
  }
 },
 "nbformat": 4,
 "nbformat_minor": 2
}
